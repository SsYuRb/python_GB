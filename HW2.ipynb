{
 "cells": [
  {
   "cell_type": "markdown",
   "metadata": {},
   "source": [
    "Напишите программу, которая принимает на вход вещественное число и показывает сумму его цифр.\n",
    "*Пример:*\n",
    "\n",
    "- 6782 -> 23\n",
    "- 0,56 -> 11"
   ]
  },
  {
   "cell_type": "code",
   "execution_count": 6,
   "metadata": {},
   "outputs": [
    {
     "name": "stdout",
     "output_type": "stream",
     "text": [
      "Сумма цифр числа: 48\n"
     ]
    }
   ],
   "source": [
    "number = list(input('Введите вещественное число: '))\n",
    "summ = 0\n",
    "if ',' in number:\n",
    "    number.remove(',')\n",
    "for i in range(len(number)):\n",
    "    summ += int(number[i])\n",
    "print (f'Сумма цифр числа: {summ}')"
   ]
  },
  {
   "cell_type": "markdown",
   "metadata": {},
   "source": [
    "Напишите программу, которая принимает на вход число N и выдает набор произведений чисел от 1 до N.\n",
    "*Пример:*\n",
    "\n",
    "- пусть N = 4, тогда [ 1, 2, 6, 24 ]"
   ]
  },
  {
   "cell_type": "code",
   "execution_count": 8,
   "metadata": {},
   "outputs": [
    {
     "name": "stdout",
     "output_type": "stream",
     "text": [
      "Набор чисел: [1, 2, 6, 24, 120]\n"
     ]
    }
   ],
   "source": [
    "n = int(input('Введите число N: '))\n",
    "list_multipl = []\n",
    "multipl = 1\n",
    "for i in range(1, n+1):\n",
    "    multipl *= i\n",
    "    list_multipl.append(multipl)\n",
    "print (f'Набор чисел: {list_multipl}')"
   ]
  },
  {
   "cell_type": "markdown",
   "metadata": {},
   "source": [
    "Задайте список из n чисел последовательности (1+1/n)^n и выведите на экран их сумму.\n",
    "*Пример:*\n",
    "\n",
    "- Для n = 6: [2.0, 2.25, 2.37037037037037, 2.44140625, 2.4883199999999994, 2.5216263717421135]"
   ]
  },
  {
   "cell_type": "code",
   "execution_count": 30,
   "metadata": {},
   "outputs": [
    {
     "name": "stdout",
     "output_type": "stream",
     "text": [
      "Сумма чисел: [2.0, 2.25, 2.37037037037037, 2.44140625, 2.4883199999999994, 2.5216263717421135, 2.546499697040712, 2.565784513950348, 2.5811747917131984, 2.5937424601000023]\n"
     ]
    }
   ],
   "source": [
    "n = int(input('Введите число N: '))\n",
    "list_sum = []\n",
    "for i in range(1, n+1):\n",
    "    k = (1+1/i)**i\n",
    "    list_sum.append(k)\n",
    "print (f'Сумма чисел: {list_sum}')"
   ]
  },
  {
   "cell_type": "markdown",
   "metadata": {},
   "source": [
    "Задайте список из N элементов, заполненных числами из промежутка [-N, N]. Найдите произведение элементов на указанных позициях. Позиции хранятся в файле file.txt в одной строке одно число.(для продвинутых - с файлом, вариант минимум - ввести позиции в консоли)\n",
    "-2 -1 0 1 2 \n",
    "Позиции: 0,1 -> 2"
   ]
  },
  {
   "cell_type": "code",
   "execution_count": 40,
   "metadata": {},
   "outputs": [
    {
     "name": "stdout",
     "output_type": "stream",
     "text": [
      "Ваш массив: [-5, -4, -3, -2, -1, 0, 1, 2, 3, 4, 5], произведение элементов на заданных позициях: 0\n"
     ]
    }
   ],
   "source": [
    "\n",
    "n = int(input('Введите число N: '))\n",
    "list_gen = [0]\n",
    "for i in range (1,n+1):\n",
    "    list_gen.insert(0, -i)\n",
    "    list_gen.append(i)\n",
    "list_poz = open('file.txt').read().split('\\n')\n",
    "counter = 1\n",
    "for i in range(2):\n",
    "    counter *= list_gen[int(list_poz[i])]\n",
    "print (f'Ваш массив: {list_gen}, произведение элементов на заданных позициях: {counter}')"
   ]
  },
  {
   "cell_type": "markdown",
   "metadata": {},
   "source": [
    "Реализуйте алгоритм перемешивания списка."
   ]
  },
  {
   "cell_type": "code",
   "execution_count": 38,
   "metadata": {},
   "outputs": [
    {
     "name": "stdout",
     "output_type": "stream",
     "text": [
      "Перемешанный массив: [5, 0, -3, 4, 2, -1, -2, 1, -4, 3, -5]\n"
     ]
    }
   ],
   "source": [
    "from random import randint\n",
    "mass = [-5, -4, -3, -2, -1, 0, 1, 2, 3, 4, 5]\n",
    "check_list = []\n",
    "for i in range (len(mass)):\n",
    "    k = randint(0, len(mass)-1)\n",
    "    if k not in check_list:\n",
    "        j = randint(0, len(mass)-1)\n",
    "        mass[k], mass[j] = mass[j], mass[k]\n",
    "        check_list.append(k)\n",
    "print (f'Перемешанный массив: {mass}')"
   ]
  },
  {
   "cell_type": "code",
   "execution_count": null,
   "metadata": {},
   "outputs": [],
   "source": []
  }
 ],
 "metadata": {
  "kernelspec": {
   "display_name": "Python 3.8.9 64-bit",
   "language": "python",
   "name": "python3"
  },
  "language_info": {
   "codemirror_mode": {
    "name": "ipython",
    "version": 3
   },
   "file_extension": ".py",
   "mimetype": "text/x-python",
   "name": "python",
   "nbconvert_exporter": "python",
   "pygments_lexer": "ipython3",
   "version": "3.8.9 (default, Apr 13 2022, 08:48:07) \n[Clang 13.1.6 (clang-1316.0.21.2.5)]"
  },
  "orig_nbformat": 4,
  "vscode": {
   "interpreter": {
    "hash": "31f2aee4e71d21fbe5cf8b01ff0e069b9275f58929596ceb00d14d90e3e16cd6"
   }
  }
 },
 "nbformat": 4,
 "nbformat_minor": 2
}
