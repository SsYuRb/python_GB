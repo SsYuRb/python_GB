{
 "cells": [
  {
   "cell_type": "markdown",
   "metadata": {},
   "source": [
    "Напишите программу, которая принимает на вход цифру, обозначающую день недели, и проверяет, является ли этот день выходным.\n",
    "Пример:\n",
    "- 6 -> да\n",
    "- 7 -> да\n",
    "- 1 -> нет"
   ]
  },
  {
   "cell_type": "code",
   "execution_count": 5,
   "metadata": {},
   "outputs": [
    {
     "name": "stdout",
     "output_type": "stream",
     "text": [
      "Такого дня недели нет\n"
     ]
    }
   ],
   "source": [
    "day_in_week = int(input('День недели: '))\n",
    "if day_in_week in [6,7]:\n",
    "    print ('Да')\n",
    "elif day_in_week > 7 or day_in_week == 0:\n",
    "    print('Такого дня недели нет')\n",
    "else:\n",
    "    print ('Нет')"
   ]
  },
  {
   "cell_type": "markdown",
   "metadata": {},
   "source": [
    "Напишите программу для. проверки истинности утверждения ¬(X ⋁ Y ⋁ Z) = ¬X ⋀ ¬Y ⋀ ¬Z для всех значений предикат. ¬ - Отрицание ⋁ - логическое \"Или\" ⋀ - логическое \"И\""
   ]
  },
  {
   "cell_type": "code",
   "execution_count": 50,
   "metadata": {},
   "outputs": [
    {
     "name": "stdout",
     "output_type": "stream",
     "text": [
      "True\n",
      "True\n",
      "True\n",
      "True\n",
      "True\n",
      "True\n",
      "True\n",
      "True\n"
     ]
    }
   ],
   "source": [
    "for i in [0, 1]:\n",
    "    X = bool(i)\n",
    "    for j in [0, 1]:\n",
    "        Y = bool(j)\n",
    "        for z in [0, 1]:\n",
    "            Z = bool(z)\n",
    "            print ((not (X or Y or Z)) == ((not(X)) and (not(Y)) and (not(Z))))"
   ]
  },
  {
   "cell_type": "markdown",
   "metadata": {},
   "source": [
    "Напишите программу, которая принимает на вход координаты точки (X и Y), причём X ≠ 0 и Y ≠ 0 и выдаёт номер четверти плоскости, в которой находится эта точка (или на какой оси она находится).\n",
    "Пример:\n",
    "- x=34; y=-30 -> 4\n",
    "- x=2; y=4-> 1\n",
    "- x=-34; y=-30 -> 3"
   ]
  },
  {
   "cell_type": "code",
   "execution_count": 9,
   "metadata": {},
   "outputs": [
    {
     "name": "stdout",
     "output_type": "stream",
     "text": [
      "4\n"
     ]
    }
   ],
   "source": [
    "x = int(input('Введите координату по x: '))\n",
    "y = int(input('Введите координату по y: '))\n",
    "if x>0 and y>0: \n",
    "    print ('1')\n",
    "elif x>0 and y<0:\n",
    "    print ('4')\n",
    "elif x<0 and y<0:\n",
    "    print ('3')\n",
    "elif x<0 and y>0:\n",
    "    print('2')"
   ]
  },
  {
   "cell_type": "markdown",
   "metadata": {},
   "source": [
    "Напишите программу, которая по заданному номеру четверти, показывает диапазон возможных координат точек в этой четверти (x и y)."
   ]
  },
  {
   "cell_type": "code",
   "execution_count": 55,
   "metadata": {},
   "outputs": [
    {
     "name": "stdout",
     "output_type": "stream",
     "text": [
      "x ∈ (-∞; 0)\n",
      "y ∈ (0; +∞)\n"
     ]
    }
   ],
   "source": [
    "chet = int(input('Введите четверть: '))\n",
    "if chet == 1: \n",
    "    print ('x ∈ (0; +∞)''\\n''y ∈ (0; +∞)')\n",
    "elif chet == 2: \n",
    "    print ('x ∈ (-∞; 0)''\\n''y ∈ (0; +∞)')\n",
    "elif chet == 3: \n",
    "    print ('x ∈ (-∞; 0)''\\n''y ∈ (-∞; 0)')\n",
    "elif chet == 4: \n",
    "    print ('x ∈ (0; +∞)''\\n''y ∈ (-∞; 0)')"
   ]
  },
  {
   "cell_type": "markdown",
   "metadata": {},
   "source": [
    "Напишите программу, которая принимает на вход координаты двух точек и находит расстояние между ними в 2D пространстве.\n",
    "Пример:\n",
    "- A (3,6); B (2,1) -> 5,09\n",
    "- A (7,-5); B (1,-1) -> 7,21"
   ]
  },
  {
   "cell_type": "code",
   "execution_count": 63,
   "metadata": {},
   "outputs": [
    {
     "name": "stdout",
     "output_type": "stream",
     "text": [
      "Расстояние между точками: 7.211102550927978\n"
     ]
    }
   ],
   "source": [
    "a = [int(i) for i in input('Введите координаты точки A через запятую: ').split(',')]\n",
    "b = [int(i) for i in input('Введите координаты точки B через запятую: ').split(',')]\n",
    "rast = 0\n",
    "for i in [0, 1]:\n",
    "    rast += (a[i]-b[i])**2\n",
    "print(f'Расстояние между точками: {rast**(1/2)}')"
   ]
  }
 ],
 "metadata": {
  "kernelspec": {
   "display_name": "Python 3.8.9 64-bit",
   "language": "python",
   "name": "python3"
  },
  "language_info": {
   "codemirror_mode": {
    "name": "ipython",
    "version": 3
   },
   "file_extension": ".py",
   "mimetype": "text/x-python",
   "name": "python",
   "nbconvert_exporter": "python",
   "pygments_lexer": "ipython3",
   "version": "3.8.9"
  },
  "orig_nbformat": 4,
  "vscode": {
   "interpreter": {
    "hash": "31f2aee4e71d21fbe5cf8b01ff0e069b9275f58929596ceb00d14d90e3e16cd6"
   }
  }
 },
 "nbformat": 4,
 "nbformat_minor": 2
}
