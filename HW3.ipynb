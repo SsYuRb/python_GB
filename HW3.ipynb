{
 "cells": [
  {
   "cell_type": "markdown",
   "metadata": {},
   "source": [
    "Задайте список из нескольких чисел. Напишите программу, которая найдёт сумму элементов списка, стоящих на нечётной позиции.\n",
    "*Пример:*\n",
    "\n",
    "- [2, 3, 5, 9, 3] -> на нечётных позициях элементы 3 и 9, ответ: 12"
   ]
  },
  {
   "cell_type": "code",
   "execution_count": 8,
   "metadata": {},
   "outputs": [
    {
     "name": "stdout",
     "output_type": "stream",
     "text": [
      "Сумма элементов списка, стоящих на нечётной позиции: 48, сгенирированный список: [5, 12, 8, 15, 16, 11, 4, 5, 6, 5]\n"
     ]
    }
   ],
   "source": [
    "import random\n",
    "arr = [random.randint(1, 20) for _ in range (int(input('Введите количество элементов списка: ')))]\n",
    "counter = 0\n",
    "for i in range (1, len(arr), 2):\n",
    "    counter += arr[i]\n",
    "print (f'Сумма элементов списка, стоящих на нечётной позиции: {counter}, сгенирированный список: {arr}')"
   ]
  },
  {
   "cell_type": "markdown",
   "metadata": {},
   "source": [
    "Напишите программу, которая найдёт произведение пар чисел списка. Парой считаем первый и последний элемент, второй и предпоследний и т.д.\n",
    "*Пример:*\n",
    "\n",
    "- [2, 3, 4, 5, 6] =>[12,15,16]      ([2*6, 3*5, 4*4]);\n",
    "- [2, 3, 5, 6] => [12,15]   ( [2*6, 3*5]) \n",
    "В скобках пример, как это работает!!!"
   ]
  },
  {
   "cell_type": "code",
   "execution_count": 17,
   "metadata": {},
   "outputs": [
    {
     "name": "stdout",
     "output_type": "stream",
     "text": [
      "Сгенирированный массив: [6, 1, 13, 17, 13, 20, 1, 4, 20, 19, 18], произведение пар чисел спика: [108, 19, 260, 68, 13, 400]\n"
     ]
    }
   ],
   "source": [
    "from math import ceil\n",
    "arr = [random.randint(1, 20) for _ in range (int(input('Введите количество элементов списка: ')))]\n",
    "arr_multipl = []\n",
    "for i in range (ceil(len(arr)/2)):\n",
    "    arr_multipl.append(arr[i]*arr[(i+1)*(-1)])\n",
    "print (f'Сгенирированный массив: {arr}, произведение пар чисел спика: {arr_multipl}')"
   ]
  },
  {
   "cell_type": "markdown",
   "metadata": {},
   "source": [
    " Задайте список из вещественных чисел. Напишите программу, которая найдёт разницу между максимальным и минимальным значением дробной части элементов.\n",
    "*Пример:*\n",
    "\n",
    "- [1.1, 1.2, 3.1, 5, 10.01] => 0.19"
   ]
  },
  {
   "cell_type": "code",
   "execution_count": 23,
   "metadata": {},
   "outputs": [
    {
     "name": "stdout",
     "output_type": "stream",
     "text": [
      "Разница между максимальным и минимальным значениями дробной части: 0.71, сгенирированный массив: [1.4, 3.27, 0.16, 11.77, 2.06]\n"
     ]
    }
   ],
   "source": [
    "from math import floor\n",
    "arr = [round(random.random()*random.randint(1, 20), 2) for _ in range (int(input('Введите количество элементов списка: ')))]\n",
    "arr_dif = []\n",
    "for i in arr:\n",
    "    arr_dif.append(i - floor(i))\n",
    "print(f'Разница между максимальным и минимальным значениями дробной части: {round(max(arr_dif)-min(arr_dif), 2)}, сгенирированный массив: {arr}')\n"
   ]
  },
  {
   "cell_type": "markdown",
   "metadata": {},
   "source": [
    "Напишите программу, которая будет преобразовывать десятичное число в двоичное.\n",
    "*Пример:*\n",
    "\n",
    "- 45 -> 101101\n",
    "- 3 -> 11\n",
    "- 2 -> 10"
   ]
  },
  {
   "cell_type": "code",
   "execution_count": 37,
   "metadata": {},
   "outputs": [
    {
     "name": "stdout",
     "output_type": "stream",
     "text": [
      "Ваше число в двочиной системе: 1111101000\n"
     ]
    }
   ],
   "source": [
    "number = bin(int(input('Введите число для перевода в двоичную систему: ')))\n",
    "print (f'Ваше число в двочиной системе: {number[2:]}')"
   ]
  },
  {
   "cell_type": "code",
   "execution_count": 41,
   "metadata": {},
   "outputs": [
    {
     "name": "stdout",
     "output_type": "stream",
     "text": [
      "Ваше число в двочиной системе: 1111101000\n"
     ]
    }
   ],
   "source": [
    "number = int(input('Введите число для перевода в двоичную систему: '))\n",
    "str1 = ''\n",
    "while number != 0:\n",
    "    k = number % 2\n",
    "    str1 += str(k)\n",
    "    number = floor(number/2)\n",
    "print(f'Ваше число в двочиной системе: {str1[::-1]}')"
   ]
  },
  {
   "cell_type": "markdown",
   "metadata": {},
   "source": [
    "Задайте число. Составьте список чисел Фибоначчи, в том числе для отрицательных индексов.(Дополнительно)\n",
    "*Пример:*\n",
    "\n",
    "- для k = 8 список будет выглядеть так: [-21 ,13, -8, 5, −3, 2, −1, 1, 0, 1, 1, 2, 3, 5, 8, 13, 21] [Негафибоначчи]"
   ]
  },
  {
   "cell_type": "code",
   "execution_count": 48,
   "metadata": {},
   "outputs": [
    {
     "data": {
      "text/plain": [
       "[-55, 34, -21, 13, -8, 5, -3, 2, -1, 1, 0, 1, 1, 2, 3, 5, 8, 13, 21, 34, 55]"
      ]
     },
     "execution_count": 48,
     "metadata": {},
     "output_type": "execute_result"
    }
   ],
   "source": [
    "def negafibonacci(n):\n",
    "    arr = [0 for _ in range (n*2+1)]\n",
    "    arr[n] = 0\n",
    "    arr[n+1], arr[n-1] = 1, 1\n",
    "    for k in range (n-2, -1, -1):\n",
    "        arr[k] = arr[k+2] - arr[k+1]\n",
    "    for i in range (n+2, len(arr)):\n",
    "        arr[i] = arr[i-1] + arr[i-2]\n",
    "    return arr\n",
    "negafibonacci(10)"
   ]
  }
 ],
 "metadata": {
  "kernelspec": {
   "display_name": "Python 3.8.9 64-bit",
   "language": "python",
   "name": "python3"
  },
  "language_info": {
   "codemirror_mode": {
    "name": "ipython",
    "version": 3
   },
   "file_extension": ".py",
   "mimetype": "text/x-python",
   "name": "python",
   "nbconvert_exporter": "python",
   "pygments_lexer": "ipython3",
   "version": "3.8.9"
  },
  "orig_nbformat": 4,
  "vscode": {
   "interpreter": {
    "hash": "31f2aee4e71d21fbe5cf8b01ff0e069b9275f58929596ceb00d14d90e3e16cd6"
   }
  }
 },
 "nbformat": 4,
 "nbformat_minor": 2
}
