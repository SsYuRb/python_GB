{
 "cells": [
  {
   "cell_type": "markdown",
   "metadata": {},
   "source": [
    "Вычислить число Пи c заданной точностью d\n",
    "*Пример:* \n",
    "\n",
    "- при d = 0.001, π = 3.141\n",
    "- при d = 0.0001, π = 3.1415  "
   ]
  },
  {
   "cell_type": "code",
   "execution_count": 4,
   "metadata": {},
   "outputs": [],
   "source": [
    "def count_pi(n):\n",
    "    counter = -1\n",
    "    summ = 1\n",
    "    for i in range(3, n, 2):\n",
    "        summ += counter*(1/i)\n",
    "        counter = counter * (-1)\n",
    "    return summ*4"
   ]
  },
  {
   "cell_type": "code",
   "execution_count": 14,
   "metadata": {},
   "outputs": [
    {
     "name": "stdout",
     "output_type": "stream",
     "text": [
      "Число пи желаемой точности: 3.1415926336\n"
     ]
    }
   ],
   "source": [
    "rounder = len(list(input('Введите желаемую точность: '))[2:])\n",
    "print(f'Число пи желаемой точности: {round(count_pi(100000000), rounder)}')"
   ]
  },
  {
   "cell_type": "markdown",
   "metadata": {},
   "source": [
    "Задайте натуральное число N. Напишите программу, которая составит список простых множителей числа N.\n",
    "* 6 -> [1,2,3]\n",
    "* 144 -> [2,3]"
   ]
  },
  {
   "cell_type": "code",
   "execution_count": 41,
   "metadata": {},
   "outputs": [
    {
     "name": "stdout",
     "output_type": "stream",
     "text": [
      "[2, 3, 7]\n",
      "Список простых множителей: [2, 3, 7]\n"
     ]
    }
   ],
   "source": [
    "number = int(input('Введите число: '))\n",
    "arr = []\n",
    "delit = 2\n",
    "for i in range(2, int(number**0.5)+1):\n",
    "    while number % i == 0:\n",
    "        arr.append(i)\n",
    "        number = number//i\n",
    "list1 = []\n",
    "for i in arr:\n",
    "    if i not in list1:\n",
    "        list1.append(i)\n",
    "print (f'Список простых множителей: {list1}')"
   ]
  },
  {
   "cell_type": "markdown",
   "metadata": {},
   "source": [
    "Задайте последовательность чисел. Напишите программу, которая выведет список неповторяющихся элементов исходной последовательности."
   ]
  },
  {
   "cell_type": "code",
   "execution_count": 43,
   "metadata": {},
   "outputs": [
    {
     "name": "stdout",
     "output_type": "stream",
     "text": [
      "[9, 9, 2, 8, 2, 1, 5, 7, 8, 6, 8, 5, 4]\n",
      "Список неповторяющихся элементов: [9, 2, 8, 1, 5, 7, 6, 4]\n"
     ]
    }
   ],
   "source": [
    "import random\n",
    "arr = [random.randint(1, 9) for _ in range(random.randint(10, 21))]\n",
    "print(f'Сгенирированный массив: {arr}')\n",
    "list1 = []\n",
    "for i in arr:\n",
    "    if i not in list1:\n",
    "        list1.append(i)\n",
    "print (f'Список неповторяющихся элементов: {list1}')"
   ]
  },
  {
   "cell_type": "markdown",
   "metadata": {},
   "source": [
    "Задана натуральная степень k. Сформировать случайным образом список коэффициентов (значения от 0 до 100) многочлена и записать в файл многочлен степени k.\n",
    "Пример:\n",
    "k=2 => 2*x*2 + 4*x + 5 = 0 или x2 + 5 = 0 или 10*x*2 = 0\n",
    "k=3 => 2*x*3 + 4*x*2 + 4*x + 5 = 0 5'. "
   ]
  },
  {
   "cell_type": "code",
   "execution_count": 51,
   "metadata": {},
   "outputs": [
    {
     "name": "stdout",
     "output_type": "stream",
     "text": [
      "54*x**3+8*x**2+68*x**1+10=0\n"
     ]
    }
   ],
   "source": [
    "k = int(input())\n",
    "list1 = [random.randint(0, 100) for _ in range(k+1)]\n",
    "for i in range(len(list1)):\n",
    "    if i != len(list1)-1:\n",
    "        print(f'{list1[i]}*x**{(k-i)}', end='+')\n",
    "    else:\n",
    "        print(f'{list1[i]}', end='')\n",
    "print('=0')"
   ]
  },
  {
   "cell_type": "markdown",
   "metadata": {},
   "source": [
    "Даны два файла, в каждом из которых находится запись многочлена. Задача - сформировать файл, содержащий сумму многочленов.\n",
    "В file1.txt :\n",
    "2*x**2 + 4*x + 5\n",
    "В file2.txt:\n",
    "4*x**2 + 1*x + 4\n",
    "Результирующий файл:\n",
    "6*x**2 + 5*x + 9"
   ]
  },
  {
   "cell_type": "code",
   "execution_count": 62,
   "metadata": {},
   "outputs": [
    {
     "data": {
      "text/plain": [
       "['2',\n",
       " '*',\n",
       " 'x',\n",
       " '*',\n",
       " '*',\n",
       " '2',\n",
       " ' ',\n",
       " '+',\n",
       " ' ',\n",
       " '4',\n",
       " '*',\n",
       " 'x',\n",
       " ' ',\n",
       " '+',\n",
       " ' ',\n",
       " '5']"
      ]
     },
     "execution_count": 62,
     "metadata": {},
     "output_type": "execute_result"
    }
   ],
   "source": [
    "list1 = list(open('file1.txt').read())\n",
    "list2 = list(open('file2.txt').read())\n",
    "for i in range (int(list1[5])+1):"
   ]
  }
 ],
 "metadata": {
  "kernelspec": {
   "display_name": "Python 3.8.9 64-bit",
   "language": "python",
   "name": "python3"
  },
  "language_info": {
   "codemirror_mode": {
    "name": "ipython",
    "version": 3
   },
   "file_extension": ".py",
   "mimetype": "text/x-python",
   "name": "python",
   "nbconvert_exporter": "python",
   "pygments_lexer": "ipython3",
   "version": "3.8.9"
  },
  "orig_nbformat": 4,
  "vscode": {
   "interpreter": {
    "hash": "31f2aee4e71d21fbe5cf8b01ff0e069b9275f58929596ceb00d14d90e3e16cd6"
   }
  }
 },
 "nbformat": 4,
 "nbformat_minor": 2
}
