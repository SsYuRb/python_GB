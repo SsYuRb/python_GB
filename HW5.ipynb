{
 "cells": [
  {
   "attachments": {},
   "cell_type": "markdown",
   "metadata": {},
   "source": [
    "1. Создайте программу для игры с конфетами человек против человека.\n",
    "*' Условие задачи: На столе лежит 117 конфета. Играют два игрока делая ход друг после друга. Первый ход определяется жеребьёвкой. За один ход можно забрать не более чем 28 конфет. Все конфеты оппонента достаются сделавшему последний ход.\n",
    "a) Добавьте игру против бота"
   ]
  },
  {
   "cell_type": "code",
   "execution_count": 1,
   "metadata": {},
   "outputs": [],
   "source": [
    "import time\n",
    "import random\n",
    "def game(name1, name2=None, count_candy=117, max_candy_take=28):\n",
    "    if name2 == None:\n",
    "        print ('Дорогой друг, против тебя сыграет бот')\n",
    "    while count_candy != 0:\n",
    "        winner = 0\n",
    "        while True: \n",
    "            print (f'Игрок {name1} твой ход: ', end = '')\n",
    "            print ('\\r', end='')\n",
    "            first_pll_choice = int(input())\n",
    "            while first_pll_choice > max_candy_take or first_pll_choice < 0:\n",
    "                print (f'Ты можешь взять максимум {max_candy_take} конфет и минимум 1 конфету. {name1} делай новый выбор: ')\n",
    "                first_pll_choice = int(input())\n",
    "            winner = name1\n",
    "            if count_candy - first_pll_choice >= 0:\n",
    "                print (f'Выбор сделан, конфет осталось: {count_candy-first_pll_choice}')\n",
    "                count_candy -= first_pll_choice\n",
    "                break\n",
    "            else: \n",
    "                print ('Ты превысил оставшееся количество')\n",
    "        if count_candy == 0:\n",
    "            break\n",
    "        if name2 != None: \n",
    "            while True: \n",
    "                print (f'Игрок {name2} твой ход: ', end='')\n",
    "                print ('\\r', end='')\n",
    "                second_pll_choice = int(input())\n",
    "                while second_pll_choice > max_candy_take or second_pll_choice < 0:\n",
    "                    print (f'Ты можешь взять максимум {max_candy_take} конфет и минимум 1 конфету. {name2} сделай новый выбор: ')\n",
    "                    second_pll_choice = int(input())\n",
    "                winner = name2\n",
    "                if count_candy - second_pll_choice >= 0:\n",
    "                    print (f'Выбор сделан, конфет осталось: {count_candy-second_pll_choice}')\n",
    "                    count_candy -= second_pll_choice\n",
    "                    break\n",
    "                else: \n",
    "                    print ('Ты превысил оставшееся количество')\n",
    "        else: \n",
    "            print ('Бот делает свой выбор...', end='')\n",
    "            time.sleep(1)\n",
    "            if count_candy > max_candy_take: \n",
    "                boot_choice = random.randint(1, max_candy_take)\n",
    "            else:\n",
    "                boot_choice = random.randint(1, count_candy)\n",
    "            print (f'Бот выбрал {boot_choice}')\n",
    "            winner = 'мистер Бот'\n",
    "            if count_candy - boot_choice >= 0:\n",
    "                print (f'Конфет осталось: {count_candy-boot_choice}')\n",
    "                count_candy -= boot_choice\n",
    "        if count_candy == 0:\n",
    "            break\n",
    "    print (f'Победа за тобой, {winner}')"
   ]
  },
  {
   "cell_type": "code",
   "execution_count": 4,
   "metadata": {},
   "outputs": [
    {
     "name": "stdout",
     "output_type": "stream",
     "text": [
      "По очереди введите имена: \n",
      "Дорогой друг, против тебя сыграет бот\n",
      "Ты можешь взять максимум 28 конфет и минимум 1 конфету. Серго делай новый выбор: \n",
      "Выбор сделан, конфет осталось: 105\n",
      "Бот делает свой выбор...Бот выбрал 28\n",
      "Конфет осталось: 77\n",
      "Выбор сделан, конфет осталось: 75\n",
      "Бот делает свой выбор...Бот выбрал 21\n",
      "Конфет осталось: 54\n",
      "Выбор сделан, конфет осталось: 26\n",
      "Бот делает свой выбор...Бот выбрал 26\n",
      "Конфет осталось: 0\n",
      "Победа за тобой, мистер Бот\n"
     ]
    }
   ],
   "source": [
    "print('По очереди введите имена: ')\n",
    "names = [input() for _ in range(2)]\n",
    "import random\n",
    "if names[1] == '': \n",
    "    names.remove(names[1])\n",
    "    game (names[0])\n",
    "else: \n",
    "    first_player = random.randint(0, 1)\n",
    "    second_player = 1 - first_player\n",
    "    if first_player == 0:\n",
    "        first_player = names[0]\n",
    "        second_player = names[1]\n",
    "    else:\n",
    "        first_player = names[1]\n",
    "        second_player = names[0]\n",
    "    game (first_player, second_player)"
   ]
  }
 ],
 "metadata": {
  "kernelspec": {
   "display_name": "Python 3.8.9 64-bit",
   "language": "python",
   "name": "python3"
  },
  "language_info": {
   "codemirror_mode": {
    "name": "ipython",
    "version": 3
   },
   "file_extension": ".py",
   "mimetype": "text/x-python",
   "name": "python",
   "nbconvert_exporter": "python",
   "pygments_lexer": "ipython3",
   "version": "3.8.9"
  },
  "orig_nbformat": 4,
  "vscode": {
   "interpreter": {
    "hash": "31f2aee4e71d21fbe5cf8b01ff0e069b9275f58929596ceb00d14d90e3e16cd6"
   }
  }
 },
 "nbformat": 4,
 "nbformat_minor": 2
}
