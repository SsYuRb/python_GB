{
 "cells": [
  {
   "attachments": {},
   "cell_type": "markdown",
   "metadata": {},
   "source": [
    " Задайте список из вещественных чисел. Напишите программу, которая найдёт разницу между максимальным и минимальным значением дробной части элементов.\n",
    "*Пример:*\n",
    "\n",
    "- [1.1, 1.2, 3.1, 5, 10.01] => 0.19"
   ]
  },
  {
   "cell_type": "code",
   "execution_count": 1,
   "metadata": {},
   "outputs": [
    {
     "name": "stdout",
     "output_type": "stream",
     "text": [
      "Разница между максимальным и минимальным значениями дробной части: 0.53, сгенирированный массив: [16.67, 8.14]\n"
     ]
    }
   ],
   "source": [
    "from math import floor\n",
    "import random\n",
    "arr = [round(random.random()*random.randint(1, 20), 2) for _ in range (int(input('Введите количество элементов списка: ')))]\n",
    "arr_dif = []\n",
    "for i in arr:\n",
    "    arr_dif.append(i - floor(i))\n",
    "print(f'Разница между максимальным и минимальным значениями дробной части: {round(max(arr_dif)-min(arr_dif), 2)}, сгенирированный массив: {arr}')\n"
   ]
  },
  {
   "cell_type": "markdown",
   "metadata": {},
   "source": [
    "Напишите программу, которая найдёт произведение пар чисел списка. Парой считаем первый и последний элемент, второй и предпоследний и т.д.\n",
    "*Пример:*\n",
    "\n",
    "- [2, 3, 4, 5, 6] =>[12,15,16]      ([2*6, 3*5, 4*4]);\n",
    "- [2, 3, 5, 6] => [12,15]   ( [2*6, 3*5]) \n",
    "В скобках пример, как это работает!!!"
   ]
  },
  {
   "cell_type": "code",
   "execution_count": 2,
   "metadata": {},
   "outputs": [
    {
     "name": "stdout",
     "output_type": "stream",
     "text": [
      "Сгенирированный массив: [19, 2], произведение пар чисел спика: [38]\n"
     ]
    }
   ],
   "source": [
    "from math import ceil\n",
    "arr = [random.randint(1, 20) for _ in range (int(input('Введите количество элементов списка: ')))]\n",
    "arr_multipl = []\n",
    "for i in range (ceil(len(arr)/2)):\n",
    "    arr_multipl.append(arr[i]*arr[(i+1)*(-1)])\n",
    "print (f'Сгенирированный массив: {arr}, произведение пар чисел спика: {arr_multipl}')"
   ]
  },
  {
   "attachments": {},
   "cell_type": "markdown",
   "metadata": {},
   "source": [
    "Задайте список из нескольких чисел. Напишите программу, которая найдёт сумму элементов списка, стоящих на нечётной позиции.\n",
    "*Пример:*\n",
    "\n",
    "- [2, 3, 5, 9, 3] -> на нечётных позициях элементы 3 и 9, ответ: 12"
   ]
  },
  {
   "cell_type": "code",
   "execution_count": 3,
   "metadata": {},
   "outputs": [
    {
     "name": "stdout",
     "output_type": "stream",
     "text": [
      "Сумма элементов списка, стоящих на нечётной позиции: 1, сгенирированный список: [14, 1]\n"
     ]
    }
   ],
   "source": [
    "import random\n",
    "arr = [random.randint(1, 20) for _ in range (int(input('Введите количество элементов списка: ')))]\n",
    "counter = 0\n",
    "for i in range (1, len(arr), 2):\n",
    "    counter += arr[i]\n",
    "print (f'Сумма элементов списка, стоящих на нечётной позиции: {counter}, сгенирированный список: {arr}')"
   ]
  }
 ],
 "metadata": {
  "kernelspec": {
   "display_name": "Python 3",
   "language": "python",
   "name": "python3"
  },
  "language_info": {
   "codemirror_mode": {
    "name": "ipython",
    "version": 3
   },
   "file_extension": ".py",
   "mimetype": "text/x-python",
   "name": "python",
   "nbconvert_exporter": "python",
   "pygments_lexer": "ipython3",
   "version": "3.8.9"
  },
  "orig_nbformat": 4,
  "vscode": {
   "interpreter": {
    "hash": "31f2aee4e71d21fbe5cf8b01ff0e069b9275f58929596ceb00d14d90e3e16cd6"
   }
  }
 },
 "nbformat": 4,
 "nbformat_minor": 2
}
